{
  "nbformat": 4,
  "nbformat_minor": 0,
  "metadata": {
    "colab": {
      "name": "Final_Dolkun_Rafkat.ipynb",
      "provenance": [],
      "collapsed_sections": [],
      "toc_visible": true,
      "include_colab_link": true
    },
    "kernelspec": {
      "name": "python3",
      "display_name": "Python 3"
    },
    "language_info": {
      "name": "python"
    }
  },
  "cells": [
    {
      "cell_type": "markdown",
      "metadata": {
        "id": "view-in-github",
        "colab_type": "text"
      },
      "source": [
        "<a href=\"https://colab.research.google.com/github/RafkatDolkun/FinalProject/blob/main/Final_Dolkun_Rafkat.ipynb\" target=\"_parent\"><img src=\"https://colab.research.google.com/assets/colab-badge.svg\" alt=\"Open In Colab\"/></a>"
      ]
    },
    {
      "cell_type": "markdown",
      "metadata": {
        "id": "HLZ91mmvMQyl"
      },
      "source": [
        "## **Machine Learning Final Project DUE: Friday May 7th 11:59pm**\n",
        "\n",
        "**Note: Please read all the instructions carefully before starting the project.**\n",
        "\n",
        "For your final project you will build an ML model to analyze a dataset of your choice. You are welcome to keep working on the data in your EDA project if your data is large enough (at least 1000 rows for simple models and at least 10,000 for more complex models) or you can choose from the datasets/project suggestions below.\n",
        "\n",
        "In this project make sure that you:\n",
        "- Have a large enough dataset\n",
        "- Split your data in training and testing\n",
        "- Explore your data to inform which type of model to choose (no need if you are using your EDA dataset)\n",
        "- Try different models on your training dataset - then select the most promising model\n",
        "- Use cross validation to fine tune the model’s parameters such as alpha in lasso\n",
        "- Simplify your model using regularization, prunnning, drop-out, etc. to avoid overfitting\n",
        "- Communicate your model’s performance and make sure you compare it to a benchmark when appropriate\n",
        "- Plot interesting graphs and results\n",
        "- Write and publish your article to medium\n",
        "- Commit your code to your GitHub\n",
        "\n",
        "Please ensure you handle all the preprocessing before the modeling.\n",
        "\n",
        "Suggestions for project:\n",
        "You can take a look at the resources given below for choosing a dataset for your project. \n",
        "\n",
        "- Traffic sign detection - https://benchmark.ini.rub.de/gtsdb_dataset.html\n",
        "- Cat and dog classifier - https://www.kaggle.com/c/dogs-vs-cats/data\n",
        "- Other datasets from Kaggle - https://www.kaggle.com/data/41592"
      ]
    },
    {
      "cell_type": "markdown",
      "metadata": {
        "id": "mirWm3dBPv90"
      },
      "source": [
        "## **Grading Criteria**\n",
        "\n",
        "- Show clear exploration of the data to justify model choice\n",
        "- Train mutliple models and clearly articulate why you chose your final model\n",
        "- Show your performance on test dataset\n",
        "- Clear and concise write-up with clear well-documented figures\n",
        "- Commit your code to GitHub"
      ]
    },
    {
      "cell_type": "markdown",
      "metadata": {
        "id": "4ZRNqxFcP4wx"
      },
      "source": [
        "## **Submission Details**\n",
        "\n",
        "This is an individual assignment. You may not work in groups. The assignment is due on Friday (05/07/2021)\n",
        "- To submit your assignment, download your notebook and the dataset, zip the dataset and notebook, and submit the zipped file on blackboard.\n",
        "- Make sure the notebook is named in the format - Final_LastName_FirstName. If you are submitting a zipped file, please name the file as well in the same format.\n",
        "- Please include the link to access your blog and your github repo in your notebook.\n",
        "- Also include the link to your notebook, github repo and the blog in the submission on blackboard. Please ensure the TAs have the required access to your notebooks and the github repo.\n",
        "\n",
        "**Note - If the dataset is too large to be zipped and submitted on blackboard, only submit your notebook, add your dataset to your google drive and share a link to the file in your notebook.**"
      ]
    },
    {
      "cell_type": "code",
      "metadata": {
        "id": "ZzWRBLl6MImY"
      },
      "source": [
        "# According to the World Health Oranization, cardiovascular diseases (CVDs) are the number 1 cause of death globally.\n",
        "# This includes: Coronary heart disease, cerebrovascular disease, peripheral arterial disease, and many more. \n",
        "# There are many behavioural risk factors that can lead to heart disease such as unhealthy diet, being inactive, using tobacco, or alchol.\n",
        "# Individuals with prestablished dieases such as hypertension, diabetes, hyperlipidaemia have an increased risk of getting CVD. \n",
        "# It is very important to catch CVD as early as possible and help manage it using medication and lifestyle changes\n",
        "# This is why I will be exploring this data set and creating a ML model to help identify those with risk and potentially save lives.  "
      ],
      "execution_count": null,
      "outputs": []
    },
    {
      "cell_type": "code",
      "metadata": {
        "id": "dXAiZ5_-g_fq"
      },
      "source": [
        "# Importing required libraries\n",
        "import pandas as pd\n",
        "import numpy as np\n",
        "import matplotlib.pyplot as plt\n",
        "import seaborn as sb\n",
        "from sklearn.model_selection import train_test_split\n",
        "from sklearn.linear_model import LogisticRegression\n",
        "from sklearn import metrics\n",
        "from sklearn.dummy import DummyClassifier\n",
        "from sklearn.tree import DecisionTreeClassifier\n",
        "from sklearn import tree\n",
        "from sklearn.ensemble import RandomForestClassifier\n",
        "from sklearn.ensemble import AdaBoostClassifier\n",
        "from sklearn.tree import DecisionTreeClassifier\n",
        "from sklearn.ensemble import GradientBoostingClassifier\n",
        "\n"
      ],
      "execution_count": 131,
      "outputs": []
    },
    {
      "cell_type": "code",
      "metadata": {
        "colab": {
          "base_uri": "https://localhost:8080/",
          "height": 419
        },
        "id": "Ru1hcLpLguH6",
        "outputId": "e0537235-7275-4ad7-c430-1681813f4c7a"
      },
      "source": [
        "# I will be using the Framingham Heart Disease data\n",
        "# Reading the CSV file\n",
        "df = pd.read_csv(\"framingham_heart_disease.csv\")\n",
        "df"
      ],
      "execution_count": 190,
      "outputs": [
        {
          "output_type": "execute_result",
          "data": {
            "text/html": [
              "<div>\n",
              "<style scoped>\n",
              "    .dataframe tbody tr th:only-of-type {\n",
              "        vertical-align: middle;\n",
              "    }\n",
              "\n",
              "    .dataframe tbody tr th {\n",
              "        vertical-align: top;\n",
              "    }\n",
              "\n",
              "    .dataframe thead th {\n",
              "        text-align: right;\n",
              "    }\n",
              "</style>\n",
              "<table border=\"1\" class=\"dataframe\">\n",
              "  <thead>\n",
              "    <tr style=\"text-align: right;\">\n",
              "      <th></th>\n",
              "      <th>male</th>\n",
              "      <th>age</th>\n",
              "      <th>education</th>\n",
              "      <th>currentSmoker</th>\n",
              "      <th>cigsPerDay</th>\n",
              "      <th>BPMeds</th>\n",
              "      <th>prevalentStroke</th>\n",
              "      <th>prevalentHyp</th>\n",
              "      <th>diabetes</th>\n",
              "      <th>totChol</th>\n",
              "      <th>sysBP</th>\n",
              "      <th>diaBP</th>\n",
              "      <th>BMI</th>\n",
              "      <th>heartRate</th>\n",
              "      <th>glucose</th>\n",
              "      <th>TenYearCHD</th>\n",
              "    </tr>\n",
              "  </thead>\n",
              "  <tbody>\n",
              "    <tr>\n",
              "      <th>0</th>\n",
              "      <td>1</td>\n",
              "      <td>39</td>\n",
              "      <td>4.0</td>\n",
              "      <td>0</td>\n",
              "      <td>0.0</td>\n",
              "      <td>0.0</td>\n",
              "      <td>0</td>\n",
              "      <td>0</td>\n",
              "      <td>0</td>\n",
              "      <td>195.0</td>\n",
              "      <td>106.0</td>\n",
              "      <td>70.0</td>\n",
              "      <td>26.97</td>\n",
              "      <td>80.0</td>\n",
              "      <td>77.0</td>\n",
              "      <td>0</td>\n",
              "    </tr>\n",
              "    <tr>\n",
              "      <th>1</th>\n",
              "      <td>0</td>\n",
              "      <td>46</td>\n",
              "      <td>2.0</td>\n",
              "      <td>0</td>\n",
              "      <td>0.0</td>\n",
              "      <td>0.0</td>\n",
              "      <td>0</td>\n",
              "      <td>0</td>\n",
              "      <td>0</td>\n",
              "      <td>250.0</td>\n",
              "      <td>121.0</td>\n",
              "      <td>81.0</td>\n",
              "      <td>28.73</td>\n",
              "      <td>95.0</td>\n",
              "      <td>76.0</td>\n",
              "      <td>0</td>\n",
              "    </tr>\n",
              "    <tr>\n",
              "      <th>2</th>\n",
              "      <td>1</td>\n",
              "      <td>48</td>\n",
              "      <td>1.0</td>\n",
              "      <td>1</td>\n",
              "      <td>20.0</td>\n",
              "      <td>0.0</td>\n",
              "      <td>0</td>\n",
              "      <td>0</td>\n",
              "      <td>0</td>\n",
              "      <td>245.0</td>\n",
              "      <td>127.5</td>\n",
              "      <td>80.0</td>\n",
              "      <td>25.34</td>\n",
              "      <td>75.0</td>\n",
              "      <td>70.0</td>\n",
              "      <td>0</td>\n",
              "    </tr>\n",
              "    <tr>\n",
              "      <th>3</th>\n",
              "      <td>0</td>\n",
              "      <td>61</td>\n",
              "      <td>3.0</td>\n",
              "      <td>1</td>\n",
              "      <td>30.0</td>\n",
              "      <td>0.0</td>\n",
              "      <td>0</td>\n",
              "      <td>1</td>\n",
              "      <td>0</td>\n",
              "      <td>225.0</td>\n",
              "      <td>150.0</td>\n",
              "      <td>95.0</td>\n",
              "      <td>28.58</td>\n",
              "      <td>65.0</td>\n",
              "      <td>103.0</td>\n",
              "      <td>1</td>\n",
              "    </tr>\n",
              "    <tr>\n",
              "      <th>4</th>\n",
              "      <td>0</td>\n",
              "      <td>46</td>\n",
              "      <td>3.0</td>\n",
              "      <td>1</td>\n",
              "      <td>23.0</td>\n",
              "      <td>0.0</td>\n",
              "      <td>0</td>\n",
              "      <td>0</td>\n",
              "      <td>0</td>\n",
              "      <td>285.0</td>\n",
              "      <td>130.0</td>\n",
              "      <td>84.0</td>\n",
              "      <td>23.10</td>\n",
              "      <td>85.0</td>\n",
              "      <td>85.0</td>\n",
              "      <td>0</td>\n",
              "    </tr>\n",
              "    <tr>\n",
              "      <th>...</th>\n",
              "      <td>...</td>\n",
              "      <td>...</td>\n",
              "      <td>...</td>\n",
              "      <td>...</td>\n",
              "      <td>...</td>\n",
              "      <td>...</td>\n",
              "      <td>...</td>\n",
              "      <td>...</td>\n",
              "      <td>...</td>\n",
              "      <td>...</td>\n",
              "      <td>...</td>\n",
              "      <td>...</td>\n",
              "      <td>...</td>\n",
              "      <td>...</td>\n",
              "      <td>...</td>\n",
              "      <td>...</td>\n",
              "    </tr>\n",
              "    <tr>\n",
              "      <th>4233</th>\n",
              "      <td>1</td>\n",
              "      <td>50</td>\n",
              "      <td>1.0</td>\n",
              "      <td>1</td>\n",
              "      <td>1.0</td>\n",
              "      <td>0.0</td>\n",
              "      <td>0</td>\n",
              "      <td>1</td>\n",
              "      <td>0</td>\n",
              "      <td>313.0</td>\n",
              "      <td>179.0</td>\n",
              "      <td>92.0</td>\n",
              "      <td>25.97</td>\n",
              "      <td>66.0</td>\n",
              "      <td>86.0</td>\n",
              "      <td>1</td>\n",
              "    </tr>\n",
              "    <tr>\n",
              "      <th>4234</th>\n",
              "      <td>1</td>\n",
              "      <td>51</td>\n",
              "      <td>3.0</td>\n",
              "      <td>1</td>\n",
              "      <td>43.0</td>\n",
              "      <td>0.0</td>\n",
              "      <td>0</td>\n",
              "      <td>0</td>\n",
              "      <td>0</td>\n",
              "      <td>207.0</td>\n",
              "      <td>126.5</td>\n",
              "      <td>80.0</td>\n",
              "      <td>19.71</td>\n",
              "      <td>65.0</td>\n",
              "      <td>68.0</td>\n",
              "      <td>0</td>\n",
              "    </tr>\n",
              "    <tr>\n",
              "      <th>4235</th>\n",
              "      <td>0</td>\n",
              "      <td>48</td>\n",
              "      <td>2.0</td>\n",
              "      <td>1</td>\n",
              "      <td>20.0</td>\n",
              "      <td>NaN</td>\n",
              "      <td>0</td>\n",
              "      <td>0</td>\n",
              "      <td>0</td>\n",
              "      <td>248.0</td>\n",
              "      <td>131.0</td>\n",
              "      <td>72.0</td>\n",
              "      <td>22.00</td>\n",
              "      <td>84.0</td>\n",
              "      <td>86.0</td>\n",
              "      <td>0</td>\n",
              "    </tr>\n",
              "    <tr>\n",
              "      <th>4236</th>\n",
              "      <td>0</td>\n",
              "      <td>44</td>\n",
              "      <td>1.0</td>\n",
              "      <td>1</td>\n",
              "      <td>15.0</td>\n",
              "      <td>0.0</td>\n",
              "      <td>0</td>\n",
              "      <td>0</td>\n",
              "      <td>0</td>\n",
              "      <td>210.0</td>\n",
              "      <td>126.5</td>\n",
              "      <td>87.0</td>\n",
              "      <td>19.16</td>\n",
              "      <td>86.0</td>\n",
              "      <td>NaN</td>\n",
              "      <td>0</td>\n",
              "    </tr>\n",
              "    <tr>\n",
              "      <th>4237</th>\n",
              "      <td>0</td>\n",
              "      <td>52</td>\n",
              "      <td>2.0</td>\n",
              "      <td>0</td>\n",
              "      <td>0.0</td>\n",
              "      <td>0.0</td>\n",
              "      <td>0</td>\n",
              "      <td>0</td>\n",
              "      <td>0</td>\n",
              "      <td>269.0</td>\n",
              "      <td>133.5</td>\n",
              "      <td>83.0</td>\n",
              "      <td>21.47</td>\n",
              "      <td>80.0</td>\n",
              "      <td>107.0</td>\n",
              "      <td>0</td>\n",
              "    </tr>\n",
              "  </tbody>\n",
              "</table>\n",
              "<p>4238 rows × 16 columns</p>\n",
              "</div>"
            ],
            "text/plain": [
              "      male  age  education  ...  heartRate  glucose  TenYearCHD\n",
              "0        1   39        4.0  ...       80.0     77.0           0\n",
              "1        0   46        2.0  ...       95.0     76.0           0\n",
              "2        1   48        1.0  ...       75.0     70.0           0\n",
              "3        0   61        3.0  ...       65.0    103.0           1\n",
              "4        0   46        3.0  ...       85.0     85.0           0\n",
              "...    ...  ...        ...  ...        ...      ...         ...\n",
              "4233     1   50        1.0  ...       66.0     86.0           1\n",
              "4234     1   51        3.0  ...       65.0     68.0           0\n",
              "4235     0   48        2.0  ...       84.0     86.0           0\n",
              "4236     0   44        1.0  ...       86.0      NaN           0\n",
              "4237     0   52        2.0  ...       80.0    107.0           0\n",
              "\n",
              "[4238 rows x 16 columns]"
            ]
          },
          "metadata": {
            "tags": []
          },
          "execution_count": 190
        }
      ]
    },
    {
      "cell_type": "code",
      "metadata": {
        "colab": {
          "base_uri": "https://localhost:8080/"
        },
        "id": "DizpNNrfhYb4",
        "outputId": "e42816f9-ffe6-48d5-b73f-0736f29a672b"
      },
      "source": [
        "# Figure out the rows and columns for the data frame\n",
        "df.shape"
      ],
      "execution_count": 191,
      "outputs": [
        {
          "output_type": "execute_result",
          "data": {
            "text/plain": [
              "(4238, 16)"
            ]
          },
          "metadata": {
            "tags": []
          },
          "execution_count": 191
        }
      ]
    },
    {
      "cell_type": "code",
      "metadata": {
        "colab": {
          "base_uri": "https://localhost:8080/"
        },
        "id": "S2sg3sO4hplx",
        "outputId": "593f3f13-62cf-4860-e00e-bf9edfe69394"
      },
      "source": [
        "# check to see if there are any missing values from the dataset (I noticed NA values when looking at it in Excel)\n",
        "df.isnull().sum()\n",
        "# education, cigsPerDay, BPMeds, totChol, BMI, heartRate, and glucose have null values\n",
        "# Glucose has the most with 388"
      ],
      "execution_count": 192,
      "outputs": [
        {
          "output_type": "execute_result",
          "data": {
            "text/plain": [
              "male                 0\n",
              "age                  0\n",
              "education          105\n",
              "currentSmoker        0\n",
              "cigsPerDay          29\n",
              "BPMeds              53\n",
              "prevalentStroke      0\n",
              "prevalentHyp         0\n",
              "diabetes             0\n",
              "totChol             50\n",
              "sysBP                0\n",
              "diaBP                0\n",
              "BMI                 19\n",
              "heartRate            1\n",
              "glucose            388\n",
              "TenYearCHD           0\n",
              "dtype: int64"
            ]
          },
          "metadata": {
            "tags": []
          },
          "execution_count": 192
        }
      ]
    },
    {
      "cell_type": "code",
      "metadata": {
        "id": "5obeRp8Oi0KY"
      },
      "source": [
        "# Need to decide whether to drop these values or to use another method such as replacing them with the average\n",
        "# After researching, I have decided it will be better to replace the NaNs with mean\n",
        "df['education'] = df['education'].replace(np.nan,df['education'].mean())\n",
        "df['cigsPerDay'] = df['cigsPerDay'].replace(np.nan,df['cigsPerDay'].mean())\n",
        "df['BPMeds'] = df['BPMeds'].replace(np.nan,df['BPMeds'].mean())\n",
        "df['totChol'] = df['totChol'].replace(np.nan,df['totChol'].mean())\n",
        "df['BMI'] = df['BMI'].replace(np.nan,df['BMI'].mean())\n",
        "df['heartRate'] = df['heartRate'].replace(np.nan,df['heartRate'].mean())\n",
        "df['glucose'] = df['glucose'].replace(np.nan,df['glucose'].mean())"
      ],
      "execution_count": 193,
      "outputs": []
    },
    {
      "cell_type": "code",
      "metadata": {
        "colab": {
          "base_uri": "https://localhost:8080/"
        },
        "id": "aVIMDLodk1L7",
        "outputId": "340b1304-c294-4011-f09a-523b7271eff3"
      },
      "source": [
        "# check to see if it replaced all NaN\n",
        "df.isnull().sum()"
      ],
      "execution_count": 194,
      "outputs": [
        {
          "output_type": "execute_result",
          "data": {
            "text/plain": [
              "male               0\n",
              "age                0\n",
              "education          0\n",
              "currentSmoker      0\n",
              "cigsPerDay         0\n",
              "BPMeds             0\n",
              "prevalentStroke    0\n",
              "prevalentHyp       0\n",
              "diabetes           0\n",
              "totChol            0\n",
              "sysBP              0\n",
              "diaBP              0\n",
              "BMI                0\n",
              "heartRate          0\n",
              "glucose            0\n",
              "TenYearCHD         0\n",
              "dtype: int64"
            ]
          },
          "metadata": {
            "tags": []
          },
          "execution_count": 194
        }
      ]
    },
    {
      "cell_type": "code",
      "metadata": {
        "colab": {
          "base_uri": "https://localhost:8080/",
          "height": 317
        },
        "id": "0UF4Tu78lABq",
        "outputId": "a92174d7-93c6-4d4c-dbd7-8e71060f463c"
      },
      "source": [
        "# Get summary of each column\n",
        "df.describe()\n",
        "\n",
        "# I personally noticed that a majority of the sample do not have diabetes. I first noticed the average blood glucose of about 82, and then noticed that average diabetes is 2.6% of the total."
      ],
      "execution_count": 195,
      "outputs": [
        {
          "output_type": "execute_result",
          "data": {
            "text/html": [
              "<div>\n",
              "<style scoped>\n",
              "    .dataframe tbody tr th:only-of-type {\n",
              "        vertical-align: middle;\n",
              "    }\n",
              "\n",
              "    .dataframe tbody tr th {\n",
              "        vertical-align: top;\n",
              "    }\n",
              "\n",
              "    .dataframe thead th {\n",
              "        text-align: right;\n",
              "    }\n",
              "</style>\n",
              "<table border=\"1\" class=\"dataframe\">\n",
              "  <thead>\n",
              "    <tr style=\"text-align: right;\">\n",
              "      <th></th>\n",
              "      <th>male</th>\n",
              "      <th>age</th>\n",
              "      <th>education</th>\n",
              "      <th>currentSmoker</th>\n",
              "      <th>cigsPerDay</th>\n",
              "      <th>BPMeds</th>\n",
              "      <th>prevalentStroke</th>\n",
              "      <th>prevalentHyp</th>\n",
              "      <th>diabetes</th>\n",
              "      <th>totChol</th>\n",
              "      <th>sysBP</th>\n",
              "      <th>diaBP</th>\n",
              "      <th>BMI</th>\n",
              "      <th>heartRate</th>\n",
              "      <th>glucose</th>\n",
              "      <th>TenYearCHD</th>\n",
              "    </tr>\n",
              "  </thead>\n",
              "  <tbody>\n",
              "    <tr>\n",
              "      <th>count</th>\n",
              "      <td>4238.000000</td>\n",
              "      <td>4238.000000</td>\n",
              "      <td>4238.000000</td>\n",
              "      <td>4238.000000</td>\n",
              "      <td>4238.000000</td>\n",
              "      <td>4238.00000</td>\n",
              "      <td>4238.000000</td>\n",
              "      <td>4238.000000</td>\n",
              "      <td>4238.000000</td>\n",
              "      <td>4238.000000</td>\n",
              "      <td>4238.000000</td>\n",
              "      <td>4238.000000</td>\n",
              "      <td>4238.000000</td>\n",
              "      <td>4238.000000</td>\n",
              "      <td>4238.000000</td>\n",
              "      <td>4238.000000</td>\n",
              "    </tr>\n",
              "    <tr>\n",
              "      <th>mean</th>\n",
              "      <td>0.429212</td>\n",
              "      <td>49.584946</td>\n",
              "      <td>1.978950</td>\n",
              "      <td>0.494101</td>\n",
              "      <td>9.003089</td>\n",
              "      <td>0.02963</td>\n",
              "      <td>0.005899</td>\n",
              "      <td>0.310524</td>\n",
              "      <td>0.025720</td>\n",
              "      <td>236.721585</td>\n",
              "      <td>132.352407</td>\n",
              "      <td>82.893464</td>\n",
              "      <td>25.802008</td>\n",
              "      <td>75.878924</td>\n",
              "      <td>81.966753</td>\n",
              "      <td>0.151958</td>\n",
              "    </tr>\n",
              "    <tr>\n",
              "      <th>std</th>\n",
              "      <td>0.495022</td>\n",
              "      <td>8.572160</td>\n",
              "      <td>1.007075</td>\n",
              "      <td>0.500024</td>\n",
              "      <td>11.879230</td>\n",
              "      <td>0.16852</td>\n",
              "      <td>0.076587</td>\n",
              "      <td>0.462763</td>\n",
              "      <td>0.158316</td>\n",
              "      <td>44.326453</td>\n",
              "      <td>22.038097</td>\n",
              "      <td>11.910850</td>\n",
              "      <td>4.070953</td>\n",
              "      <td>12.025177</td>\n",
              "      <td>22.836603</td>\n",
              "      <td>0.359023</td>\n",
              "    </tr>\n",
              "    <tr>\n",
              "      <th>min</th>\n",
              "      <td>0.000000</td>\n",
              "      <td>32.000000</td>\n",
              "      <td>1.000000</td>\n",
              "      <td>0.000000</td>\n",
              "      <td>0.000000</td>\n",
              "      <td>0.00000</td>\n",
              "      <td>0.000000</td>\n",
              "      <td>0.000000</td>\n",
              "      <td>0.000000</td>\n",
              "      <td>107.000000</td>\n",
              "      <td>83.500000</td>\n",
              "      <td>48.000000</td>\n",
              "      <td>15.540000</td>\n",
              "      <td>44.000000</td>\n",
              "      <td>40.000000</td>\n",
              "      <td>0.000000</td>\n",
              "    </tr>\n",
              "    <tr>\n",
              "      <th>25%</th>\n",
              "      <td>0.000000</td>\n",
              "      <td>42.000000</td>\n",
              "      <td>1.000000</td>\n",
              "      <td>0.000000</td>\n",
              "      <td>0.000000</td>\n",
              "      <td>0.00000</td>\n",
              "      <td>0.000000</td>\n",
              "      <td>0.000000</td>\n",
              "      <td>0.000000</td>\n",
              "      <td>206.000000</td>\n",
              "      <td>117.000000</td>\n",
              "      <td>75.000000</td>\n",
              "      <td>23.080000</td>\n",
              "      <td>68.000000</td>\n",
              "      <td>72.000000</td>\n",
              "      <td>0.000000</td>\n",
              "    </tr>\n",
              "    <tr>\n",
              "      <th>50%</th>\n",
              "      <td>0.000000</td>\n",
              "      <td>49.000000</td>\n",
              "      <td>2.000000</td>\n",
              "      <td>0.000000</td>\n",
              "      <td>0.000000</td>\n",
              "      <td>0.00000</td>\n",
              "      <td>0.000000</td>\n",
              "      <td>0.000000</td>\n",
              "      <td>0.000000</td>\n",
              "      <td>234.000000</td>\n",
              "      <td>128.000000</td>\n",
              "      <td>82.000000</td>\n",
              "      <td>25.410000</td>\n",
              "      <td>75.000000</td>\n",
              "      <td>80.000000</td>\n",
              "      <td>0.000000</td>\n",
              "    </tr>\n",
              "    <tr>\n",
              "      <th>75%</th>\n",
              "      <td>1.000000</td>\n",
              "      <td>56.000000</td>\n",
              "      <td>3.000000</td>\n",
              "      <td>1.000000</td>\n",
              "      <td>20.000000</td>\n",
              "      <td>0.00000</td>\n",
              "      <td>0.000000</td>\n",
              "      <td>1.000000</td>\n",
              "      <td>0.000000</td>\n",
              "      <td>262.000000</td>\n",
              "      <td>144.000000</td>\n",
              "      <td>89.875000</td>\n",
              "      <td>28.037500</td>\n",
              "      <td>83.000000</td>\n",
              "      <td>85.000000</td>\n",
              "      <td>0.000000</td>\n",
              "    </tr>\n",
              "    <tr>\n",
              "      <th>max</th>\n",
              "      <td>1.000000</td>\n",
              "      <td>70.000000</td>\n",
              "      <td>4.000000</td>\n",
              "      <td>1.000000</td>\n",
              "      <td>70.000000</td>\n",
              "      <td>1.00000</td>\n",
              "      <td>1.000000</td>\n",
              "      <td>1.000000</td>\n",
              "      <td>1.000000</td>\n",
              "      <td>696.000000</td>\n",
              "      <td>295.000000</td>\n",
              "      <td>142.500000</td>\n",
              "      <td>56.800000</td>\n",
              "      <td>143.000000</td>\n",
              "      <td>394.000000</td>\n",
              "      <td>1.000000</td>\n",
              "    </tr>\n",
              "  </tbody>\n",
              "</table>\n",
              "</div>"
            ],
            "text/plain": [
              "              male          age  ...      glucose   TenYearCHD\n",
              "count  4238.000000  4238.000000  ...  4238.000000  4238.000000\n",
              "mean      0.429212    49.584946  ...    81.966753     0.151958\n",
              "std       0.495022     8.572160  ...    22.836603     0.359023\n",
              "min       0.000000    32.000000  ...    40.000000     0.000000\n",
              "25%       0.000000    42.000000  ...    72.000000     0.000000\n",
              "50%       0.000000    49.000000  ...    80.000000     0.000000\n",
              "75%       1.000000    56.000000  ...    85.000000     0.000000\n",
              "max       1.000000    70.000000  ...   394.000000     1.000000\n",
              "\n",
              "[8 rows x 16 columns]"
            ]
          },
          "metadata": {
            "tags": []
          },
          "execution_count": 195
        }
      ]
    },
    {
      "cell_type": "code",
      "metadata": {
        "colab": {
          "base_uri": "https://localhost:8080/",
          "height": 565
        },
        "id": "gG-6rZ8RnN81",
        "outputId": "83029e50-8bd7-4633-d312-ce3ca364d52e"
      },
      "source": [
        "# correlation matrix for the data\n",
        "df.corr()"
      ],
      "execution_count": 162,
      "outputs": [
        {
          "output_type": "execute_result",
          "data": {
            "text/html": [
              "<div>\n",
              "<style scoped>\n",
              "    .dataframe tbody tr th:only-of-type {\n",
              "        vertical-align: middle;\n",
              "    }\n",
              "\n",
              "    .dataframe tbody tr th {\n",
              "        vertical-align: top;\n",
              "    }\n",
              "\n",
              "    .dataframe thead th {\n",
              "        text-align: right;\n",
              "    }\n",
              "</style>\n",
              "<table border=\"1\" class=\"dataframe\">\n",
              "  <thead>\n",
              "    <tr style=\"text-align: right;\">\n",
              "      <th></th>\n",
              "      <th>male</th>\n",
              "      <th>age</th>\n",
              "      <th>education</th>\n",
              "      <th>currentSmoker</th>\n",
              "      <th>cigsPerDay</th>\n",
              "      <th>BPMeds</th>\n",
              "      <th>prevalentStroke</th>\n",
              "      <th>prevalentHyp</th>\n",
              "      <th>diabetes</th>\n",
              "      <th>totChol</th>\n",
              "      <th>sysBP</th>\n",
              "      <th>diaBP</th>\n",
              "      <th>BMI</th>\n",
              "      <th>heartRate</th>\n",
              "      <th>glucose</th>\n",
              "      <th>TenYearCHD</th>\n",
              "    </tr>\n",
              "  </thead>\n",
              "  <tbody>\n",
              "    <tr>\n",
              "      <th>male</th>\n",
              "      <td>1.000000</td>\n",
              "      <td>-0.028979</td>\n",
              "      <td>0.017126</td>\n",
              "      <td>0.197596</td>\n",
              "      <td>0.316807</td>\n",
              "      <td>-0.052204</td>\n",
              "      <td>-0.004546</td>\n",
              "      <td>0.005313</td>\n",
              "      <td>0.015708</td>\n",
              "      <td>-0.069974</td>\n",
              "      <td>-0.035989</td>\n",
              "      <td>0.057933</td>\n",
              "      <td>0.081506</td>\n",
              "      <td>-0.116601</td>\n",
              "      <td>0.005818</td>\n",
              "      <td>0.088428</td>\n",
              "    </tr>\n",
              "    <tr>\n",
              "      <th>age</th>\n",
              "      <td>-0.028979</td>\n",
              "      <td>1.000000</td>\n",
              "      <td>-0.163613</td>\n",
              "      <td>-0.213748</td>\n",
              "      <td>-0.192366</td>\n",
              "      <td>0.121980</td>\n",
              "      <td>0.057655</td>\n",
              "      <td>0.307194</td>\n",
              "      <td>0.101258</td>\n",
              "      <td>0.260270</td>\n",
              "      <td>0.394302</td>\n",
              "      <td>0.206104</td>\n",
              "      <td>0.135283</td>\n",
              "      <td>-0.012819</td>\n",
              "      <td>0.116850</td>\n",
              "      <td>0.225256</td>\n",
              "    </tr>\n",
              "    <tr>\n",
              "      <th>education</th>\n",
              "      <td>0.017126</td>\n",
              "      <td>-0.163613</td>\n",
              "      <td>1.000000</td>\n",
              "      <td>0.018301</td>\n",
              "      <td>0.007962</td>\n",
              "      <td>-0.010607</td>\n",
              "      <td>-0.035110</td>\n",
              "      <td>-0.080993</td>\n",
              "      <td>-0.038146</td>\n",
              "      <td>-0.022507</td>\n",
              "      <td>-0.128260</td>\n",
              "      <td>-0.061755</td>\n",
              "      <td>-0.135635</td>\n",
              "      <td>-0.053626</td>\n",
              "      <td>-0.033721</td>\n",
              "      <td>-0.053384</td>\n",
              "    </tr>\n",
              "    <tr>\n",
              "      <th>currentSmoker</th>\n",
              "      <td>0.197596</td>\n",
              "      <td>-0.213748</td>\n",
              "      <td>0.018301</td>\n",
              "      <td>1.000000</td>\n",
              "      <td>0.766970</td>\n",
              "      <td>-0.048632</td>\n",
              "      <td>-0.032988</td>\n",
              "      <td>-0.103260</td>\n",
              "      <td>-0.044295</td>\n",
              "      <td>-0.046285</td>\n",
              "      <td>-0.130230</td>\n",
              "      <td>-0.107746</td>\n",
              "      <td>-0.167276</td>\n",
              "      <td>0.062348</td>\n",
              "      <td>-0.054157</td>\n",
              "      <td>0.019456</td>\n",
              "    </tr>\n",
              "    <tr>\n",
              "      <th>cigsPerDay</th>\n",
              "      <td>0.316807</td>\n",
              "      <td>-0.192366</td>\n",
              "      <td>0.007962</td>\n",
              "      <td>0.766970</td>\n",
              "      <td>1.000000</td>\n",
              "      <td>-0.045826</td>\n",
              "      <td>-0.032706</td>\n",
              "      <td>-0.065947</td>\n",
              "      <td>-0.037063</td>\n",
              "      <td>-0.026025</td>\n",
              "      <td>-0.088505</td>\n",
              "      <td>-0.056391</td>\n",
              "      <td>-0.092453</td>\n",
              "      <td>0.074851</td>\n",
              "      <td>-0.056088</td>\n",
              "      <td>0.057775</td>\n",
              "    </tr>\n",
              "    <tr>\n",
              "      <th>BPMeds</th>\n",
              "      <td>-0.052204</td>\n",
              "      <td>0.121980</td>\n",
              "      <td>-0.010607</td>\n",
              "      <td>-0.048632</td>\n",
              "      <td>-0.045826</td>\n",
              "      <td>1.000000</td>\n",
              "      <td>0.115003</td>\n",
              "      <td>0.259243</td>\n",
              "      <td>0.051571</td>\n",
              "      <td>0.078909</td>\n",
              "      <td>0.252047</td>\n",
              "      <td>0.192490</td>\n",
              "      <td>0.099552</td>\n",
              "      <td>0.015175</td>\n",
              "      <td>0.048905</td>\n",
              "      <td>0.086774</td>\n",
              "    </tr>\n",
              "    <tr>\n",
              "      <th>prevalentStroke</th>\n",
              "      <td>-0.004546</td>\n",
              "      <td>0.057655</td>\n",
              "      <td>-0.035110</td>\n",
              "      <td>-0.032988</td>\n",
              "      <td>-0.032706</td>\n",
              "      <td>0.115003</td>\n",
              "      <td>1.000000</td>\n",
              "      <td>0.074830</td>\n",
              "      <td>0.006949</td>\n",
              "      <td>0.000067</td>\n",
              "      <td>0.057009</td>\n",
              "      <td>0.045190</td>\n",
              "      <td>0.024840</td>\n",
              "      <td>-0.017676</td>\n",
              "      <td>0.018055</td>\n",
              "      <td>0.061810</td>\n",
              "    </tr>\n",
              "    <tr>\n",
              "      <th>prevalentHyp</th>\n",
              "      <td>0.005313</td>\n",
              "      <td>0.307194</td>\n",
              "      <td>-0.080993</td>\n",
              "      <td>-0.103260</td>\n",
              "      <td>-0.065947</td>\n",
              "      <td>0.259243</td>\n",
              "      <td>0.074830</td>\n",
              "      <td>1.000000</td>\n",
              "      <td>0.077808</td>\n",
              "      <td>0.163041</td>\n",
              "      <td>0.696755</td>\n",
              "      <td>0.615751</td>\n",
              "      <td>0.300572</td>\n",
              "      <td>0.147222</td>\n",
              "      <td>0.082924</td>\n",
              "      <td>0.177603</td>\n",
              "    </tr>\n",
              "    <tr>\n",
              "      <th>diabetes</th>\n",
              "      <td>0.015708</td>\n",
              "      <td>0.101258</td>\n",
              "      <td>-0.038146</td>\n",
              "      <td>-0.044295</td>\n",
              "      <td>-0.037063</td>\n",
              "      <td>0.051571</td>\n",
              "      <td>0.006949</td>\n",
              "      <td>0.077808</td>\n",
              "      <td>1.000000</td>\n",
              "      <td>0.040092</td>\n",
              "      <td>0.111283</td>\n",
              "      <td>0.050329</td>\n",
              "      <td>0.086250</td>\n",
              "      <td>0.048993</td>\n",
              "      <td>0.605705</td>\n",
              "      <td>0.097317</td>\n",
              "    </tr>\n",
              "    <tr>\n",
              "      <th>totChol</th>\n",
              "      <td>-0.069974</td>\n",
              "      <td>0.260270</td>\n",
              "      <td>-0.022507</td>\n",
              "      <td>-0.046285</td>\n",
              "      <td>-0.026025</td>\n",
              "      <td>0.078909</td>\n",
              "      <td>0.000067</td>\n",
              "      <td>0.163041</td>\n",
              "      <td>0.040092</td>\n",
              "      <td>1.000000</td>\n",
              "      <td>0.207609</td>\n",
              "      <td>0.163903</td>\n",
              "      <td>0.114789</td>\n",
              "      <td>0.090676</td>\n",
              "      <td>0.044583</td>\n",
              "      <td>0.081624</td>\n",
              "    </tr>\n",
              "    <tr>\n",
              "      <th>sysBP</th>\n",
              "      <td>-0.035989</td>\n",
              "      <td>0.394302</td>\n",
              "      <td>-0.128260</td>\n",
              "      <td>-0.130230</td>\n",
              "      <td>-0.088505</td>\n",
              "      <td>0.252047</td>\n",
              "      <td>0.057009</td>\n",
              "      <td>0.696755</td>\n",
              "      <td>0.111283</td>\n",
              "      <td>0.207609</td>\n",
              "      <td>1.000000</td>\n",
              "      <td>0.784002</td>\n",
              "      <td>0.325247</td>\n",
              "      <td>0.182174</td>\n",
              "      <td>0.134608</td>\n",
              "      <td>0.216429</td>\n",
              "    </tr>\n",
              "    <tr>\n",
              "      <th>diaBP</th>\n",
              "      <td>0.057933</td>\n",
              "      <td>0.206104</td>\n",
              "      <td>-0.061755</td>\n",
              "      <td>-0.107746</td>\n",
              "      <td>-0.056391</td>\n",
              "      <td>0.192490</td>\n",
              "      <td>0.045190</td>\n",
              "      <td>0.615751</td>\n",
              "      <td>0.050329</td>\n",
              "      <td>0.163903</td>\n",
              "      <td>0.784002</td>\n",
              "      <td>1.000000</td>\n",
              "      <td>0.376544</td>\n",
              "      <td>0.181246</td>\n",
              "      <td>0.058647</td>\n",
              "      <td>0.145299</td>\n",
              "    </tr>\n",
              "    <tr>\n",
              "      <th>BMI</th>\n",
              "      <td>0.081506</td>\n",
              "      <td>0.135283</td>\n",
              "      <td>-0.135635</td>\n",
              "      <td>-0.167276</td>\n",
              "      <td>-0.092453</td>\n",
              "      <td>0.099552</td>\n",
              "      <td>0.024840</td>\n",
              "      <td>0.300572</td>\n",
              "      <td>0.086250</td>\n",
              "      <td>0.114789</td>\n",
              "      <td>0.325247</td>\n",
              "      <td>0.376544</td>\n",
              "      <td>1.000000</td>\n",
              "      <td>0.067544</td>\n",
              "      <td>0.082109</td>\n",
              "      <td>0.074680</td>\n",
              "    </tr>\n",
              "    <tr>\n",
              "      <th>heartRate</th>\n",
              "      <td>-0.116601</td>\n",
              "      <td>-0.012819</td>\n",
              "      <td>-0.053626</td>\n",
              "      <td>0.062348</td>\n",
              "      <td>0.074851</td>\n",
              "      <td>0.015175</td>\n",
              "      <td>-0.017676</td>\n",
              "      <td>0.147222</td>\n",
              "      <td>0.048993</td>\n",
              "      <td>0.090676</td>\n",
              "      <td>0.182174</td>\n",
              "      <td>0.181246</td>\n",
              "      <td>0.067544</td>\n",
              "      <td>1.000000</td>\n",
              "      <td>0.089341</td>\n",
              "      <td>0.022898</td>\n",
              "    </tr>\n",
              "    <tr>\n",
              "      <th>glucose</th>\n",
              "      <td>0.005818</td>\n",
              "      <td>0.116850</td>\n",
              "      <td>-0.033721</td>\n",
              "      <td>-0.054157</td>\n",
              "      <td>-0.056088</td>\n",
              "      <td>0.048905</td>\n",
              "      <td>0.018055</td>\n",
              "      <td>0.082924</td>\n",
              "      <td>0.605705</td>\n",
              "      <td>0.044583</td>\n",
              "      <td>0.134608</td>\n",
              "      <td>0.058647</td>\n",
              "      <td>0.082109</td>\n",
              "      <td>0.089341</td>\n",
              "      <td>1.000000</td>\n",
              "      <td>0.120406</td>\n",
              "    </tr>\n",
              "    <tr>\n",
              "      <th>TenYearCHD</th>\n",
              "      <td>0.088428</td>\n",
              "      <td>0.225256</td>\n",
              "      <td>-0.053384</td>\n",
              "      <td>0.019456</td>\n",
              "      <td>0.057775</td>\n",
              "      <td>0.086774</td>\n",
              "      <td>0.061810</td>\n",
              "      <td>0.177603</td>\n",
              "      <td>0.097317</td>\n",
              "      <td>0.081624</td>\n",
              "      <td>0.216429</td>\n",
              "      <td>0.145299</td>\n",
              "      <td>0.074680</td>\n",
              "      <td>0.022898</td>\n",
              "      <td>0.120406</td>\n",
              "      <td>1.000000</td>\n",
              "    </tr>\n",
              "  </tbody>\n",
              "</table>\n",
              "</div>"
            ],
            "text/plain": [
              "                     male       age  education  ...  heartRate   glucose  TenYearCHD\n",
              "male             1.000000 -0.028979   0.017126  ...  -0.116601  0.005818    0.088428\n",
              "age             -0.028979  1.000000  -0.163613  ...  -0.012819  0.116850    0.225256\n",
              "education        0.017126 -0.163613   1.000000  ...  -0.053626 -0.033721   -0.053384\n",
              "currentSmoker    0.197596 -0.213748   0.018301  ...   0.062348 -0.054157    0.019456\n",
              "cigsPerDay       0.316807 -0.192366   0.007962  ...   0.074851 -0.056088    0.057775\n",
              "BPMeds          -0.052204  0.121980  -0.010607  ...   0.015175  0.048905    0.086774\n",
              "prevalentStroke -0.004546  0.057655  -0.035110  ...  -0.017676  0.018055    0.061810\n",
              "prevalentHyp     0.005313  0.307194  -0.080993  ...   0.147222  0.082924    0.177603\n",
              "diabetes         0.015708  0.101258  -0.038146  ...   0.048993  0.605705    0.097317\n",
              "totChol         -0.069974  0.260270  -0.022507  ...   0.090676  0.044583    0.081624\n",
              "sysBP           -0.035989  0.394302  -0.128260  ...   0.182174  0.134608    0.216429\n",
              "diaBP            0.057933  0.206104  -0.061755  ...   0.181246  0.058647    0.145299\n",
              "BMI              0.081506  0.135283  -0.135635  ...   0.067544  0.082109    0.074680\n",
              "heartRate       -0.116601 -0.012819  -0.053626  ...   1.000000  0.089341    0.022898\n",
              "glucose          0.005818  0.116850  -0.033721  ...   0.089341  1.000000    0.120406\n",
              "TenYearCHD       0.088428  0.225256  -0.053384  ...   0.022898  0.120406    1.000000\n",
              "\n",
              "[16 rows x 16 columns]"
            ]
          },
          "metadata": {
            "tags": []
          },
          "execution_count": 162
        }
      ]
    },
    {
      "cell_type": "code",
      "metadata": {
        "colab": {
          "base_uri": "https://localhost:8080/",
          "height": 665
        },
        "id": "nWnK6_Z4oIt0",
        "outputId": "579cf1bf-9a19-40fe-d9a6-e94c6f93e116"
      },
      "source": [
        "# I want to visualize the correlation matrix better using seaborn\n",
        "corrMatrix = df.corr()\n",
        "fig, ax = plt.subplots(figsize=(15,10))\n",
        "sb.heatmap(corrMatrix,annot=True, cmap=\"coolwarm\")\n",
        "plt.show()\n",
        "# lowest idicators for CHD include currentSmoker, heartRate, and BMI\n",
        "# Highest indicators include age, sysBP, and prevalentHyp"
      ],
      "execution_count": 163,
      "outputs": [
        {
          "output_type": "display_data",
          "data": {
            "image/png": "[encoded data removed]",
            "text/plain": [
              "<Figure size 1080x720 with 2 Axes>"
            ]
          },
          "metadata": {
            "tags": [],
            "needs_background": "light"
          }
        }
      ]
    },
    {
      "cell_type": "code",
      "metadata": {
        "id": "i4zw2GT1loDf"
      },
      "source": [
        "# Drop any columns?\n",
        "# All the information seems to be relevant to predicting CVD but education.\n",
        "# I originally thought about keeping education. This is because I was thinking that having a higher level of education could mean that\n",
        "# the individual is more educated on living a healthy lifestyle, but realized that this is probably not the best predictor for our model.\n",
        "# Dropping Education\n",
        "\n",
        "del df['education']"
      ],
      "execution_count": 164,
      "outputs": []
    },
    {
      "cell_type": "code",
      "metadata": {
        "colab": {
          "base_uri": "https://localhost:8080/",
          "height": 669
        },
        "id": "I5M8091WmdY7",
        "outputId": "0bce30bb-6815-4924-83c0-7d0ae85ebcc4"
      },
      "source": [
        "# checking to see if education was deleted\n",
        "df.head(20)"
      ],
      "execution_count": 165,
      "outputs": [
        {
          "output_type": "execute_result",
          "data": {
            "text/html": [
              "<div>\n",
              "<style scoped>\n",
              "    .dataframe tbody tr th:only-of-type {\n",
              "        vertical-align: middle;\n",
              "    }\n",
              "\n",
              "    .dataframe tbody tr th {\n",
              "        vertical-align: top;\n",
              "    }\n",
              "\n",
              "    .dataframe thead th {\n",
              "        text-align: right;\n",
              "    }\n",
              "</style>\n",
              "<table border=\"1\" class=\"dataframe\">\n",
              "  <thead>\n",
              "    <tr style=\"text-align: right;\">\n",
              "      <th></th>\n",
              "      <th>male</th>\n",
              "      <th>age</th>\n",
              "      <th>currentSmoker</th>\n",
              "      <th>cigsPerDay</th>\n",
              "      <th>BPMeds</th>\n",
              "      <th>prevalentStroke</th>\n",
              "      <th>prevalentHyp</th>\n",
              "      <th>diabetes</th>\n",
              "      <th>totChol</th>\n",
              "      <th>sysBP</th>\n",
              "      <th>diaBP</th>\n",
              "      <th>BMI</th>\n",
              "      <th>heartRate</th>\n",
              "      <th>glucose</th>\n",
              "      <th>TenYearCHD</th>\n",
              "    </tr>\n",
              "  </thead>\n",
              "  <tbody>\n",
              "    <tr>\n",
              "      <th>0</th>\n",
              "      <td>1</td>\n",
              "      <td>39</td>\n",
              "      <td>0</td>\n",
              "      <td>0.0</td>\n",
              "      <td>0.0</td>\n",
              "      <td>0</td>\n",
              "      <td>0</td>\n",
              "      <td>0</td>\n",
              "      <td>195.0</td>\n",
              "      <td>106.0</td>\n",
              "      <td>70.0</td>\n",
              "      <td>26.97</td>\n",
              "      <td>80.0</td>\n",
              "      <td>77.000000</td>\n",
              "      <td>0</td>\n",
              "    </tr>\n",
              "    <tr>\n",
              "      <th>1</th>\n",
              "      <td>0</td>\n",
              "      <td>46</td>\n",
              "      <td>0</td>\n",
              "      <td>0.0</td>\n",
              "      <td>0.0</td>\n",
              "      <td>0</td>\n",
              "      <td>0</td>\n",
              "      <td>0</td>\n",
              "      <td>250.0</td>\n",
              "      <td>121.0</td>\n",
              "      <td>81.0</td>\n",
              "      <td>28.73</td>\n",
              "      <td>95.0</td>\n",
              "      <td>76.000000</td>\n",
              "      <td>0</td>\n",
              "    </tr>\n",
              "    <tr>\n",
              "      <th>2</th>\n",
              "      <td>1</td>\n",
              "      <td>48</td>\n",
              "      <td>1</td>\n",
              "      <td>20.0</td>\n",
              "      <td>0.0</td>\n",
              "      <td>0</td>\n",
              "      <td>0</td>\n",
              "      <td>0</td>\n",
              "      <td>245.0</td>\n",
              "      <td>127.5</td>\n",
              "      <td>80.0</td>\n",
              "      <td>25.34</td>\n",
              "      <td>75.0</td>\n",
              "      <td>70.000000</td>\n",
              "      <td>0</td>\n",
              "    </tr>\n",
              "    <tr>\n",
              "      <th>3</th>\n",
              "      <td>0</td>\n",
              "      <td>61</td>\n",
              "      <td>1</td>\n",
              "      <td>30.0</td>\n",
              "      <td>0.0</td>\n",
              "      <td>0</td>\n",
              "      <td>1</td>\n",
              "      <td>0</td>\n",
              "      <td>225.0</td>\n",
              "      <td>150.0</td>\n",
              "      <td>95.0</td>\n",
              "      <td>28.58</td>\n",
              "      <td>65.0</td>\n",
              "      <td>103.000000</td>\n",
              "      <td>1</td>\n",
              "    </tr>\n",
              "    <tr>\n",
              "      <th>4</th>\n",
              "      <td>0</td>\n",
              "      <td>46</td>\n",
              "      <td>1</td>\n",
              "      <td>23.0</td>\n",
              "      <td>0.0</td>\n",
              "      <td>0</td>\n",
              "      <td>0</td>\n",
              "      <td>0</td>\n",
              "      <td>285.0</td>\n",
              "      <td>130.0</td>\n",
              "      <td>84.0</td>\n",
              "      <td>23.10</td>\n",
              "      <td>85.0</td>\n",
              "      <td>85.000000</td>\n",
              "      <td>0</td>\n",
              "    </tr>\n",
              "    <tr>\n",
              "      <th>5</th>\n",
              "      <td>0</td>\n",
              "      <td>43</td>\n",
              "      <td>0</td>\n",
              "      <td>0.0</td>\n",
              "      <td>0.0</td>\n",
              "      <td>0</td>\n",
              "      <td>1</td>\n",
              "      <td>0</td>\n",
              "      <td>228.0</td>\n",
              "      <td>180.0</td>\n",
              "      <td>110.0</td>\n",
              "      <td>30.30</td>\n",
              "      <td>77.0</td>\n",
              "      <td>99.000000</td>\n",
              "      <td>0</td>\n",
              "    </tr>\n",
              "    <tr>\n",
              "      <th>6</th>\n",
              "      <td>0</td>\n",
              "      <td>63</td>\n",
              "      <td>0</td>\n",
              "      <td>0.0</td>\n",
              "      <td>0.0</td>\n",
              "      <td>0</td>\n",
              "      <td>0</td>\n",
              "      <td>0</td>\n",
              "      <td>205.0</td>\n",
              "      <td>138.0</td>\n",
              "      <td>71.0</td>\n",
              "      <td>33.11</td>\n",
              "      <td>60.0</td>\n",
              "      <td>85.000000</td>\n",
              "      <td>1</td>\n",
              "    </tr>\n",
              "    <tr>\n",
              "      <th>7</th>\n",
              "      <td>0</td>\n",
              "      <td>45</td>\n",
              "      <td>1</td>\n",
              "      <td>20.0</td>\n",
              "      <td>0.0</td>\n",
              "      <td>0</td>\n",
              "      <td>0</td>\n",
              "      <td>0</td>\n",
              "      <td>313.0</td>\n",
              "      <td>100.0</td>\n",
              "      <td>71.0</td>\n",
              "      <td>21.68</td>\n",
              "      <td>79.0</td>\n",
              "      <td>78.000000</td>\n",
              "      <td>0</td>\n",
              "    </tr>\n",
              "    <tr>\n",
              "      <th>8</th>\n",
              "      <td>1</td>\n",
              "      <td>52</td>\n",
              "      <td>0</td>\n",
              "      <td>0.0</td>\n",
              "      <td>0.0</td>\n",
              "      <td>0</td>\n",
              "      <td>1</td>\n",
              "      <td>0</td>\n",
              "      <td>260.0</td>\n",
              "      <td>141.5</td>\n",
              "      <td>89.0</td>\n",
              "      <td>26.36</td>\n",
              "      <td>76.0</td>\n",
              "      <td>79.000000</td>\n",
              "      <td>0</td>\n",
              "    </tr>\n",
              "    <tr>\n",
              "      <th>9</th>\n",
              "      <td>1</td>\n",
              "      <td>43</td>\n",
              "      <td>1</td>\n",
              "      <td>30.0</td>\n",
              "      <td>0.0</td>\n",
              "      <td>0</td>\n",
              "      <td>1</td>\n",
              "      <td>0</td>\n",
              "      <td>225.0</td>\n",
              "      <td>162.0</td>\n",
              "      <td>107.0</td>\n",
              "      <td>23.61</td>\n",
              "      <td>93.0</td>\n",
              "      <td>88.000000</td>\n",
              "      <td>0</td>\n",
              "    </tr>\n",
              "    <tr>\n",
              "      <th>10</th>\n",
              "      <td>0</td>\n",
              "      <td>50</td>\n",
              "      <td>0</td>\n",
              "      <td>0.0</td>\n",
              "      <td>0.0</td>\n",
              "      <td>0</td>\n",
              "      <td>0</td>\n",
              "      <td>0</td>\n",
              "      <td>254.0</td>\n",
              "      <td>133.0</td>\n",
              "      <td>76.0</td>\n",
              "      <td>22.91</td>\n",
              "      <td>75.0</td>\n",
              "      <td>76.000000</td>\n",
              "      <td>0</td>\n",
              "    </tr>\n",
              "    <tr>\n",
              "      <th>11</th>\n",
              "      <td>0</td>\n",
              "      <td>43</td>\n",
              "      <td>0</td>\n",
              "      <td>0.0</td>\n",
              "      <td>0.0</td>\n",
              "      <td>0</td>\n",
              "      <td>0</td>\n",
              "      <td>0</td>\n",
              "      <td>247.0</td>\n",
              "      <td>131.0</td>\n",
              "      <td>88.0</td>\n",
              "      <td>27.64</td>\n",
              "      <td>72.0</td>\n",
              "      <td>61.000000</td>\n",
              "      <td>0</td>\n",
              "    </tr>\n",
              "    <tr>\n",
              "      <th>12</th>\n",
              "      <td>1</td>\n",
              "      <td>46</td>\n",
              "      <td>1</td>\n",
              "      <td>15.0</td>\n",
              "      <td>0.0</td>\n",
              "      <td>0</td>\n",
              "      <td>1</td>\n",
              "      <td>0</td>\n",
              "      <td>294.0</td>\n",
              "      <td>142.0</td>\n",
              "      <td>94.0</td>\n",
              "      <td>26.31</td>\n",
              "      <td>98.0</td>\n",
              "      <td>64.000000</td>\n",
              "      <td>0</td>\n",
              "    </tr>\n",
              "    <tr>\n",
              "      <th>13</th>\n",
              "      <td>0</td>\n",
              "      <td>41</td>\n",
              "      <td>0</td>\n",
              "      <td>0.0</td>\n",
              "      <td>1.0</td>\n",
              "      <td>0</td>\n",
              "      <td>1</td>\n",
              "      <td>0</td>\n",
              "      <td>332.0</td>\n",
              "      <td>124.0</td>\n",
              "      <td>88.0</td>\n",
              "      <td>31.31</td>\n",
              "      <td>65.0</td>\n",
              "      <td>84.000000</td>\n",
              "      <td>0</td>\n",
              "    </tr>\n",
              "    <tr>\n",
              "      <th>14</th>\n",
              "      <td>0</td>\n",
              "      <td>39</td>\n",
              "      <td>1</td>\n",
              "      <td>9.0</td>\n",
              "      <td>0.0</td>\n",
              "      <td>0</td>\n",
              "      <td>0</td>\n",
              "      <td>0</td>\n",
              "      <td>226.0</td>\n",
              "      <td>114.0</td>\n",
              "      <td>64.0</td>\n",
              "      <td>22.35</td>\n",
              "      <td>85.0</td>\n",
              "      <td>81.966753</td>\n",
              "      <td>0</td>\n",
              "    </tr>\n",
              "    <tr>\n",
              "      <th>15</th>\n",
              "      <td>0</td>\n",
              "      <td>38</td>\n",
              "      <td>1</td>\n",
              "      <td>20.0</td>\n",
              "      <td>0.0</td>\n",
              "      <td>0</td>\n",
              "      <td>1</td>\n",
              "      <td>0</td>\n",
              "      <td>221.0</td>\n",
              "      <td>140.0</td>\n",
              "      <td>90.0</td>\n",
              "      <td>21.35</td>\n",
              "      <td>95.0</td>\n",
              "      <td>70.000000</td>\n",
              "      <td>1</td>\n",
              "    </tr>\n",
              "    <tr>\n",
              "      <th>16</th>\n",
              "      <td>1</td>\n",
              "      <td>48</td>\n",
              "      <td>1</td>\n",
              "      <td>10.0</td>\n",
              "      <td>0.0</td>\n",
              "      <td>0</td>\n",
              "      <td>1</td>\n",
              "      <td>0</td>\n",
              "      <td>232.0</td>\n",
              "      <td>138.0</td>\n",
              "      <td>90.0</td>\n",
              "      <td>22.37</td>\n",
              "      <td>64.0</td>\n",
              "      <td>72.000000</td>\n",
              "      <td>0</td>\n",
              "    </tr>\n",
              "    <tr>\n",
              "      <th>17</th>\n",
              "      <td>0</td>\n",
              "      <td>46</td>\n",
              "      <td>1</td>\n",
              "      <td>20.0</td>\n",
              "      <td>0.0</td>\n",
              "      <td>0</td>\n",
              "      <td>0</td>\n",
              "      <td>0</td>\n",
              "      <td>291.0</td>\n",
              "      <td>112.0</td>\n",
              "      <td>78.0</td>\n",
              "      <td>23.38</td>\n",
              "      <td>80.0</td>\n",
              "      <td>89.000000</td>\n",
              "      <td>1</td>\n",
              "    </tr>\n",
              "    <tr>\n",
              "      <th>18</th>\n",
              "      <td>0</td>\n",
              "      <td>38</td>\n",
              "      <td>1</td>\n",
              "      <td>5.0</td>\n",
              "      <td>0.0</td>\n",
              "      <td>0</td>\n",
              "      <td>0</td>\n",
              "      <td>0</td>\n",
              "      <td>195.0</td>\n",
              "      <td>122.0</td>\n",
              "      <td>84.5</td>\n",
              "      <td>23.24</td>\n",
              "      <td>75.0</td>\n",
              "      <td>78.000000</td>\n",
              "      <td>0</td>\n",
              "    </tr>\n",
              "    <tr>\n",
              "      <th>19</th>\n",
              "      <td>1</td>\n",
              "      <td>41</td>\n",
              "      <td>0</td>\n",
              "      <td>0.0</td>\n",
              "      <td>0.0</td>\n",
              "      <td>0</td>\n",
              "      <td>0</td>\n",
              "      <td>0</td>\n",
              "      <td>195.0</td>\n",
              "      <td>139.0</td>\n",
              "      <td>88.0</td>\n",
              "      <td>26.88</td>\n",
              "      <td>85.0</td>\n",
              "      <td>65.000000</td>\n",
              "      <td>0</td>\n",
              "    </tr>\n",
              "  </tbody>\n",
              "</table>\n",
              "</div>"
            ],
            "text/plain": [
              "    male  age  currentSmoker  ...  heartRate     glucose  TenYearCHD\n",
              "0      1   39              0  ...       80.0   77.000000           0\n",
              "1      0   46              0  ...       95.0   76.000000           0\n",
              "2      1   48              1  ...       75.0   70.000000           0\n",
              "3      0   61              1  ...       65.0  103.000000           1\n",
              "4      0   46              1  ...       85.0   85.000000           0\n",
              "5      0   43              0  ...       77.0   99.000000           0\n",
              "6      0   63              0  ...       60.0   85.000000           1\n",
              "7      0   45              1  ...       79.0   78.000000           0\n",
              "8      1   52              0  ...       76.0   79.000000           0\n",
              "9      1   43              1  ...       93.0   88.000000           0\n",
              "10     0   50              0  ...       75.0   76.000000           0\n",
              "11     0   43              0  ...       72.0   61.000000           0\n",
              "12     1   46              1  ...       98.0   64.000000           0\n",
              "13     0   41              0  ...       65.0   84.000000           0\n",
              "14     0   39              1  ...       85.0   81.966753           0\n",
              "15     0   38              1  ...       95.0   70.000000           1\n",
              "16     1   48              1  ...       64.0   72.000000           0\n",
              "17     0   46              1  ...       80.0   89.000000           1\n",
              "18     0   38              1  ...       75.0   78.000000           0\n",
              "19     1   41              0  ...       85.0   65.000000           0\n",
              "\n",
              "[20 rows x 15 columns]"
            ]
          },
          "metadata": {
            "tags": []
          },
          "execution_count": 165
        }
      ]
    },
    {
      "cell_type": "code",
      "metadata": {
        "colab": {
          "base_uri": "https://localhost:8080/",
          "height": 279
        },
        "id": "SXlL3ZvamnAF",
        "outputId": "4fc725ec-8abd-435d-fe06-7ef5deaf2d5e"
      },
      "source": [
        "# Visualize the ten year CHD\n",
        "pd.value_counts(df['TenYearCHD']).plot.bar()\n",
        "# a majority of the data set did not have the risk of developing chd"
      ],
      "execution_count": 166,
      "outputs": [
        {
          "output_type": "execute_result",
          "data": {
            "text/plain": [
              "<matplotlib.axes._subplots.AxesSubplot at 0x7f30bc2b4cd0>"
            ]
          },
          "metadata": {
            "tags": []
          },
          "execution_count": 166
        },
        {
          "output_type": "display_data",
          "data": {
            "image/png": "[encoded data removed]",
            "text/plain": [
              "<Figure size 432x288 with 1 Axes>"
            ]
          },
          "metadata": {
            "tags": [],
            "needs_background": "light"
          }
        }
      ]
    },
    {
      "cell_type": "code",
      "metadata": {
        "colab": {
          "base_uri": "https://localhost:8080/",
          "height": 313
        },
        "id": "abWToP9gkoZ3",
        "outputId": "69060d1c-8a14-4b6f-cb3e-43dd898393c1"
      },
      "source": [
        "# Visualize how many are current smokers\n",
        "pd.value_counts(df['currentSmoker']).plot.bar()\n",
        "df['currentSmoker'].value_counts()\n",
        "\n",
        "# split pretty evenly"
      ],
      "execution_count": 167,
      "outputs": [
        {
          "output_type": "execute_result",
          "data": {
            "text/plain": [
              "0    2144\n",
              "1    2094\n",
              "Name: currentSmoker, dtype: int64"
            ]
          },
          "metadata": {
            "tags": []
          },
          "execution_count": 167
        },
        {
          "output_type": "display_data",
          "data": {
            "image/png": "[encoded data removed]",
            "text/plain": [
              "<Figure size 432x288 with 1 Axes>"
            ]
          },
          "metadata": {
            "tags": [],
            "needs_background": "light"
          }
        }
      ]
    },
    {
      "cell_type": "code",
      "metadata": {
        "colab": {
          "base_uri": "https://localhost:8080/"
        },
        "id": "O4T6G4NQlB2v",
        "outputId": "4a5e03d7-f19d-4972-b551-f65cc27a9e4c"
      },
      "source": [
        "# Since the World Health Organization says that smoking can lead to heart disease, I was curious to see how many cigarettes these people smoked.\n",
        "df['cigsPerDay'].value_counts()\n",
        "# I noticed that 70 is a lot, especially in a day. Could this be a mistake? "
      ],
      "execution_count": 168,
      "outputs": [
        {
          "output_type": "execute_result",
          "data": {
            "text/plain": [
              "0.000000     2144\n",
              "20.000000     734\n",
              "30.000000     217\n",
              "15.000000     210\n",
              "10.000000     143\n",
              "9.000000      130\n",
              "5.000000      121\n",
              "3.000000      100\n",
              "40.000000      80\n",
              "1.000000       67\n",
              "43.000000      56\n",
              "25.000000      55\n",
              "9.003089       29\n",
              "35.000000      22\n",
              "6.000000       18\n",
              "2.000000       18\n",
              "7.000000       12\n",
              "8.000000       11\n",
              "60.000000      11\n",
              "4.000000        9\n",
              "18.000000       8\n",
              "17.000000       7\n",
              "50.000000       6\n",
              "23.000000       6\n",
              "11.000000       5\n",
              "45.000000       3\n",
              "16.000000       3\n",
              "13.000000       3\n",
              "12.000000       3\n",
              "14.000000       2\n",
              "19.000000       2\n",
              "70.000000       1\n",
              "38.000000       1\n",
              "29.000000       1\n",
              "Name: cigsPerDay, dtype: int64"
            ]
          },
          "metadata": {
            "tags": []
          },
          "execution_count": 168
        }
      ]
    },
    {
      "cell_type": "code",
      "metadata": {
        "colab": {
          "base_uri": "https://localhost:8080/",
          "height": 1000
        },
        "id": "iVJgzZ3omI36",
        "outputId": "1d4447c4-4cef-4de9-eab6-9e72b88c3f17"
      },
      "source": [
        "# Histograms to show distribution for each column\n",
        "df.hist(figsize=(15,15))"
      ],
      "execution_count": 198,
      "outputs": [
        {
          "output_type": "execute_result",
          "data": {
            "text/plain": [
              "array([[<matplotlib.axes._subplots.AxesSubplot object at 0x7f30bb6b2050>,\n",
              "        <matplotlib.axes._subplots.AxesSubplot object at 0x7f30ba698650>,\n",
              "        <matplotlib.axes._subplots.AxesSubplot object at 0x7f30bb8e9990>,\n",
              "        <matplotlib.axes._subplots.AxesSubplot object at 0x7f30ba670b90>],\n",
              "       [<matplotlib.axes._subplots.AxesSubplot object at 0x7f30ba633250>,\n",
              "        <matplotlib.axes._subplots.AxesSubplot object at 0x7f30ba5e68d0>,\n",
              "        <matplotlib.axes._subplots.AxesSubplot object at 0x7f30ba59bfd0>,\n",
              "        <matplotlib.axes._subplots.AxesSubplot object at 0x7f30ba55e5d0>],\n",
              "       [<matplotlib.axes._subplots.AxesSubplot object at 0x7f30ba55e610>,\n",
              "        <matplotlib.axes._subplots.AxesSubplot object at 0x7f30ba514d90>,\n",
              "        <matplotlib.axes._subplots.AxesSubplot object at 0x7f30ba48c750>,\n",
              "        <matplotlib.axes._subplots.AxesSubplot object at 0x7f30ba4c1cd0>],\n",
              "       [<matplotlib.axes._subplots.AxesSubplot object at 0x7f30ba483290>,\n",
              "        <matplotlib.axes._subplots.AxesSubplot object at 0x7f30ba43a810>,\n",
              "        <matplotlib.axes._subplots.AxesSubplot object at 0x7f30ba3efd90>,\n",
              "        <matplotlib.axes._subplots.AxesSubplot object at 0x7f30ba3b2350>]],\n",
              "      dtype=object)"
            ]
          },
          "metadata": {
            "tags": []
          },
          "execution_count": 198
        },
        {
          "output_type": "display_data",
          "data": {
            "image/png": "[encoded data removed]",
            "text/plain": [
              "<Figure size 1080x1080 with 16 Axes>"
            ]
          },
          "metadata": {
            "tags": [],
            "needs_background": "light"
          }
        }
      ]
    },
    {
      "cell_type": "code",
      "metadata": {
        "colab": {
          "base_uri": "https://localhost:8080/"
        },
        "id": "BdcW-Kwvmnae",
        "outputId": "3a3890ab-b0dc-4f13-f5d7-a7393fb242b0"
      },
      "source": [
        "# First I will be using logistic regression to model the data\n",
        "# Split data into training and test set\n",
        "X = df.iloc[:,:14]\n",
        "y = df.iloc[:,14]\n",
        "\n",
        "# Split X and y into training and testing sets\n",
        "X_train, X_test, y_train, y_test = train_test_split(X, y, test_size=0.3, random_state=42)\n",
        "print(X_train.shape)\n",
        "print(y_train.shape)\n",
        "print(X_test.shape)\n",
        "print(y_test.shape)"
      ],
      "execution_count": 170,
      "outputs": [
        {
          "output_type": "stream",
          "text": [
            "(2966, 14)\n",
            "(2966,)\n",
            "(1272, 14)\n",
            "(1272,)\n"
          ],
          "name": "stdout"
        }
      ]
    },
    {
      "cell_type": "code",
      "metadata": {
        "colab": {
          "base_uri": "https://localhost:8080/"
        },
        "id": "BKnl2IqHoej3",
        "outputId": "110caada-3ea4-4d56-c139-94a486ab9dc8"
      },
      "source": [
        "# Fit your training data to a Logistic Regression Model\n",
        "from sklearn.linear_model import LogisticRegression\n",
        "\n",
        "logReg = LogisticRegression()\n",
        "\n",
        "logReg.fit(X_train, y_train)"
      ],
      "execution_count": 171,
      "outputs": [
        {
          "output_type": "stream",
          "text": [
            "/usr/local/lib/python3.7/dist-packages/sklearn/linear_model/_logistic.py:940: ConvergenceWarning: lbfgs failed to converge (status=1):\n",
            "STOP: TOTAL NO. of ITERATIONS REACHED LIMIT.\n",
            "\n",
            "Increase the number of iterations (max_iter) or scale the data as shown in:\n",
            "    https://scikit-learn.org/stable/modules/preprocessing.html\n",
            "Please also refer to the documentation for alternative solver options:\n",
            "    https://scikit-learn.org/stable/modules/linear_model.html#logistic-regression\n",
            "  extra_warning_msg=_LOGISTIC_SOLVER_CONVERGENCE_MSG)\n"
          ],
          "name": "stderr"
        },
        {
          "output_type": "execute_result",
          "data": {
            "text/plain": [
              "LogisticRegression(C=1.0, class_weight=None, dual=False, fit_intercept=True,\n",
              "                   intercept_scaling=1, l1_ratio=None, max_iter=100,\n",
              "                   multi_class='auto', n_jobs=None, penalty='l2',\n",
              "                   random_state=None, solver='lbfgs', tol=0.0001, verbose=0,\n",
              "                   warm_start=False)"
            ]
          },
          "metadata": {
            "tags": []
          },
          "execution_count": 171
        }
      ]
    },
    {
      "cell_type": "code",
      "metadata": {
        "colab": {
          "base_uri": "https://localhost:8080/",
          "height": 347
        },
        "id": "3MTgcalFohP3",
        "outputId": "2eb0fed6-cb61-420e-ef2a-265129c56d4a"
      },
      "source": [
        "# make predictions\n",
        "y_pred = logReg.predict(X_test)\n",
        "\n",
        "# evaluate the performance\n",
        "cnf_matrix = metrics.confusion_matrix(y_test, y_pred)\n",
        "\n",
        "print(cnf_matrix)\n",
        "print('Accuracy:', metrics.accuracy_score(y_test, y_pred))\n",
        "\n",
        "dummy_clf = DummyClassifier(strategy=\"most_frequent\")\n",
        "dummy_clf.fit(X,y)\n",
        "dummy_clf.score(X, y)\n",
        "\n",
        "# Confusion Matrix\n",
        "metrics.plot_confusion_matrix(logReg, X_test, y_test)"
      ],
      "execution_count": 172,
      "outputs": [
        {
          "output_type": "stream",
          "text": [
            "[[1079    5]\n",
            " [ 183    5]]\n",
            "Accuracy: 0.8522012578616353\n"
          ],
          "name": "stdout"
        },
        {
          "output_type": "execute_result",
          "data": {
            "text/plain": [
              "<sklearn.metrics._plot.confusion_matrix.ConfusionMatrixDisplay at 0x7f30bc4ace10>"
            ]
          },
          "metadata": {
            "tags": []
          },
          "execution_count": 172
        },
        {
          "output_type": "display_data",
          "data": {
            "image/png": "[encoded data removed]",
            "text/plain": [
              "<Figure size 432x288 with 2 Axes>"
            ]
          },
          "metadata": {
            "tags": [],
            "needs_background": "light"
          }
        }
      ]
    },
    {
      "cell_type": "code",
      "metadata": {
        "colab": {
          "base_uri": "https://localhost:8080/"
        },
        "id": "C6PLjFKopvox",
        "outputId": "4995231e-3194-4a6d-b493-9f2c0e64ba4a"
      },
      "source": [
        "# Next I will try using decision tree\n",
        "# I will be using the same traning and testing set from the Logistic Regression Model\n",
        "X_traindt, X_testdt, y_traindt, y_testdt = train_test_split(X, y, test_size=0.3, random_state=42, stratify=y)\n",
        "\n",
        "dt = DecisionTreeClassifier(criterion='entropy', max_depth=7)\n",
        "dt.fit(X_train, y_train)"
      ],
      "execution_count": 220,
      "outputs": [
        {
          "output_type": "execute_result",
          "data": {
            "text/plain": [
              "DecisionTreeClassifier(ccp_alpha=0.0, class_weight=None, criterion='entropy',\n",
              "                       max_depth=7, max_features=None, max_leaf_nodes=None,\n",
              "                       min_impurity_decrease=0.0, min_impurity_split=None,\n",
              "                       min_samples_leaf=1, min_samples_split=2,\n",
              "                       min_weight_fraction_leaf=0.0, presort='deprecated',\n",
              "                       random_state=None, splitter='best')"
            ]
          },
          "metadata": {
            "tags": []
          },
          "execution_count": 220
        }
      ]
    },
    {
      "cell_type": "code",
      "metadata": {
        "id": "JcVsu0lKqIS4"
      },
      "source": [
        "# Predict\n",
        "y_pred = dt.predict(X_testdt)"
      ],
      "execution_count": 222,
      "outputs": []
    },
    {
      "cell_type": "code",
      "metadata": {
        "colab": {
          "base_uri": "https://localhost:8080/",
          "height": 330
        },
        "id": "hvQ5xwyxqOKe",
        "outputId": "073ccbc7-7fc7-4f88-823a-98c1f74e1f65"
      },
      "source": [
        "cf = metrics.confusion_matrix(y_test, y_pred)\n",
        "print(cf)\n",
        "\n",
        "print('Accuracy =', metrics.accuracy_score(y_test, y_pred))\n",
        "\n",
        "import matplotlib.pyplot as plt\n",
        "\n",
        "metrics.plot_confusion_matrix(dt, X_test, y_test)\n",
        "plt.show()"
      ],
      "execution_count": 221,
      "outputs": [
        {
          "output_type": "stream",
          "text": [
            "[[1044   40]\n",
            " [ 180    8]]\n",
            "Accuracy = 0.8270440251572327\n"
          ],
          "name": "stdout"
        },
        {
          "output_type": "display_data",
          "data": {
            "image/png": "[encoded data removed]",
            "text/plain": [
              "<Figure size 432x288 with 2 Axes>"
            ]
          },
          "metadata": {
            "tags": [],
            "needs_background": "light"
          }
        }
      ]
    },
    {
      "cell_type": "code",
      "metadata": {
        "id": "Ijtg-Evvqwm3"
      },
      "source": [
        "# From the two models Logistic Regression and Decision Trees, it appears that Logistic Regression had the higher baseline accuracy, but to prevent overfitting,\n",
        "# I decided to use the Decision Trees model and further simplify it.  "
      ],
      "execution_count": 215,
      "outputs": []
    },
    {
      "cell_type": "code",
      "metadata": {
        "colab": {
          "base_uri": "https://localhost:8080/"
        },
        "id": "ETZ1HVUduMYG",
        "outputId": "87697a97-550f-4265-c991-3c8c3cc81508"
      },
      "source": [
        "# Baseline Classification Accuracy for X_train\n",
        "dummy_classifier = DummyClassifier(strategy='most_frequent')\n",
        "dummy_classifier.fit(X_train,y_train)\n",
        "baseline_acc = dummy_classifier.score(X_test,y_test)\n",
        "\n",
        "print(\"Baseline Accuracy = \", baseline_acc)"
      ],
      "execution_count": 223,
      "outputs": [
        {
          "output_type": "stream",
          "text": [
            "Baseline Accuracy =  0.8522012578616353\n"
          ],
          "name": "stdout"
        }
      ]
    },
    {
      "cell_type": "code",
      "metadata": {
        "colab": {
          "base_uri": "https://localhost:8080/"
        },
        "id": "O1TJU9SWuU6G",
        "outputId": "a972199d-24a2-4621-bc43-55a7a1a21927"
      },
      "source": [
        "# Bootstrap Sampling\n",
        "def create_bootstrap_sample(df):\n",
        "    return df.sample(n= df.shape[0], replace = True)\n",
        "\n",
        "bootstrap_sample = create_bootstrap_sample(X_train)\n",
        "\n",
        "print('Number of rows should be the same:')\n",
        "print('Number of rows in X_train:  ', X_train.shape[0])\n",
        "print('Number of rows in bootstrap:', create_bootstrap_sample(X_train).shape[0])\n",
        "\n",
        "print(bootstrap_sample)"
      ],
      "execution_count": 224,
      "outputs": [
        {
          "output_type": "stream",
          "text": [
            "Number of rows should be the same:\n",
            "Number of rows in X_train:   2966\n",
            "Number of rows in bootstrap: 2966\n",
            "      male  age  currentSmoker  cigsPerDay  ...  diaBP    BMI  heartRate  glucose\n",
            "4225     1   45              1        43.0  ...   85.0  24.24       83.0    105.0\n",
            "3426     0   45              0         0.0  ...   80.0  24.39       75.0     80.0\n",
            "686      1   48              0         0.0  ...   81.0  24.87       76.0     76.0\n",
            "3152     0   38              1         5.0  ...   73.0  20.73       85.0     72.0\n",
            "232      1   48              0         0.0  ...   79.0  28.62       85.0    100.0\n",
            "...    ...  ...            ...         ...  ...    ...    ...        ...      ...\n",
            "3564     1   40              0         0.0  ...   85.0  30.80       75.0     85.0\n",
            "988      1   42              0         0.0  ...   88.0  23.61       75.0     78.0\n",
            "3817     1   47              1        20.0  ...   93.0  28.50       68.0    332.0\n",
            "3991     1   39              1         1.0  ...   84.0  21.01       60.0    120.0\n",
            "834      0   59              0         0.0  ...   89.5  26.08       71.0    113.0\n",
            "\n",
            "[2966 rows x 14 columns]\n"
          ],
          "name": "stdout"
        }
      ]
    },
    {
      "cell_type": "code",
      "metadata": {
        "colab": {
          "base_uri": "https://localhost:8080/"
        },
        "id": "eFjHuKhxuXh3",
        "outputId": "ec70ff45-5546-4473-8a1f-6ad7101119cc"
      },
      "source": [
        "# Bagging Classifier\n",
        "from sklearn.ensemble import BaggingClassifier\n",
        "from sklearn.metrics import accuracy_score\n",
        "\n",
        "model_bagging = BaggingClassifier(random_state = 42)\n",
        "model_bagging.fit(X_train, y_train)\n",
        "pred_bagging = model_bagging.predict(X_test)\n",
        "acc_bagging = accuracy_score(y_test, pred_bagging)\n",
        "\n",
        "print(' Accuracy = ', acc_bagging)\n",
        "\n",
        "# This lowered Accuracy"
      ],
      "execution_count": 225,
      "outputs": [
        {
          "output_type": "stream",
          "text": [
            " Accuracy =  0.835691823899371\n"
          ],
          "name": "stdout"
        }
      ]
    },
    {
      "cell_type": "code",
      "metadata": {
        "colab": {
          "base_uri": "https://localhost:8080/"
        },
        "id": "hSC5iGT6udFC",
        "outputId": "378ef161-d4f5-4894-9932-3650d8248cce"
      },
      "source": [
        "from sklearn.metrics import (\n",
        "    classification_report,\n",
        "    recall_score,\n",
        "    precision_score,\n",
        "    accuracy_score\n",
        ")\n",
        "print('Classification Report:\\n')\n",
        "print(classification_report(y_test, pred_bagging))"
      ],
      "execution_count": 226,
      "outputs": [
        {
          "output_type": "stream",
          "text": [
            "Classification Report:\n",
            "\n",
            "              precision    recall  f1-score   support\n",
            "\n",
            "           0       0.86      0.97      0.91      1084\n",
            "           1       0.29      0.08      0.13       188\n",
            "\n",
            "    accuracy                           0.84      1272\n",
            "   macro avg       0.58      0.52      0.52      1272\n",
            "weighted avg       0.77      0.84      0.79      1272\n",
            "\n"
          ],
          "name": "stdout"
        }
      ]
    },
    {
      "cell_type": "code",
      "metadata": {
        "colab": {
          "base_uri": "https://localhost:8080/"
        },
        "id": "9P_O3j8WukdT",
        "outputId": "ab0622f3-60a6-4824-a54b-733131905021"
      },
      "source": [
        "# Random Forest\n",
        "model_rf = RandomForestClassifier(n_estimators=100, max_features=7, random_state=42)\n",
        "model_rf.fit(X_train, y_train)\n",
        "predict_rf = model_rf.predict(X_test)\n",
        "\n",
        "print(' Accuracy = ', accuracy_score(y_test, predict_rf))\n"
      ],
      "execution_count": 227,
      "outputs": [
        {
          "output_type": "stream",
          "text": [
            " Accuracy =  0.8537735849056604\n"
          ],
          "name": "stdout"
        }
      ]
    },
    {
      "cell_type": "code",
      "metadata": {
        "colab": {
          "base_uri": "https://localhost:8080/"
        },
        "id": "xugEmZEmA2gJ",
        "outputId": "181ae220-5332-4ee8-ed50-9fde60ce9b96"
      },
      "source": [
        "# Top 5 features for the Random Forest\n",
        "features = X_train.columns\n",
        "feature_importance = model_rf.feature_importances_\n",
        "importance = pd.DataFrame({'Feature': features, 'Importance': feature_importance}).nlargest(5, 'Importance')\n",
        "print(importance)"
      ],
      "execution_count": 228,
      "outputs": [
        {
          "output_type": "stream",
          "text": [
            "    Feature  Importance\n",
            "11      BMI    0.145464\n",
            "9     sysBP    0.142196\n",
            "8   totChol    0.129764\n",
            "13  glucose    0.127895\n",
            "1       age    0.121750\n"
          ],
          "name": "stdout"
        }
      ]
    },
    {
      "cell_type": "code",
      "metadata": {
        "colab": {
          "base_uri": "https://localhost:8080/"
        },
        "id": "3k346o2duwS4",
        "outputId": "7f3956a7-34bb-41ef-c2a7-9abec8172b5b"
      },
      "source": [
        "# Out of Bag Evaluation\n",
        "from sklearn.ensemble import RandomForestClassifier\n",
        "\n",
        "model_rf_oob = RandomForestClassifier(n_estimators=100, max_features=7, oob_score=True, random_state=42).fit(X_train, y_train)\n",
        "oob_score = round(model_rf_oob.oob_score_,4)\n",
        "acc_oob = round(accuracy_score(y_test, model_rf_oob.predict(X_test)),4)\n",
        "diff_oob = round(abs(oob_score - acc_oob),4)\n",
        "\n",
        "print('OOB Score:\\t\\t\\t', oob_score)\n",
        "print('Testing Accuracy:\\t\\t', acc_oob)\n",
        "print('Acc. Difference:\\t\\t', diff_oob)"
      ],
      "execution_count": 229,
      "outputs": [
        {
          "output_type": "stream",
          "text": [
            "OOB Score:\t\t\t 0.8449\n",
            "Testing Accuracy:\t\t 0.8538\n",
            "Acc. Difference:\t\t 0.0089\n"
          ],
          "name": "stdout"
        }
      ]
    },
    {
      "cell_type": "code",
      "metadata": {
        "colab": {
          "base_uri": "https://localhost:8080/"
        },
        "id": "5F-gAauwuzze",
        "outputId": "94ffff51-8254-40d7-ea2c-58de1bbe8b5c"
      },
      "source": [
        "# AdaBoost\n",
        "base_est = DecisionTreeClassifier (max_depth =4)\n",
        "ada_boost1 = AdaBoostClassifier(base_est, n_estimators=200, random_state=42, learning_rate=.05)\n",
        "ada_boost1.fit(X_train, y_train)\n",
        "adaboost_predict = ada_boost1.predict(X_test)\n",
        "\n",
        "print(\"Accuracy:\", accuracy_score(y_test, adaboost_predict))"
      ],
      "execution_count": 230,
      "outputs": [
        {
          "output_type": "stream",
          "text": [
            "Accuracy: 0.8325471698113207\n"
          ],
          "name": "stdout"
        }
      ]
    },
    {
      "cell_type": "code",
      "metadata": {
        "colab": {
          "base_uri": "https://localhost:8080/"
        },
        "id": "GWkApQLeBHK4",
        "outputId": "4302c15f-97e0-4379-aa32-7f4d2f4e69f0"
      },
      "source": [
        "# Top 5 features for AdaBoost\n",
        "ada_features = X_train.columns\n",
        "ada_feature_importance = ada_boost1.feature_importances_\n",
        "ada_importance = pd.DataFrame({'Feature': features, 'Importance': feature_importance}).nlargest(5, 'Importance')\n",
        "print(ada_importance)"
      ],
      "execution_count": 231,
      "outputs": [
        {
          "output_type": "stream",
          "text": [
            "    Feature  Importance\n",
            "11      BMI    0.145464\n",
            "9     sysBP    0.142196\n",
            "8   totChol    0.129764\n",
            "13  glucose    0.127895\n",
            "1       age    0.121750\n"
          ],
          "name": "stdout"
        }
      ]
    },
    {
      "cell_type": "code",
      "metadata": {
        "colab": {
          "base_uri": "https://localhost:8080/"
        },
        "id": "-T_z0Cd8u2eD",
        "outputId": "6493cc8c-31fa-49ed-d494-6b4a4230a95d"
      },
      "source": [
        "# Gradient Boosted Trees (GBT)\n",
        "gbc = GradientBoostingClassifier(random_state=42).fit(X_train, y_train)\n",
        "gbc_pred = gbc.predict(X_test)\n",
        "recall_gbc = round(recall_score(y_test, gbc_pred),4)\n",
        "precision_gbc = round(precision_score(y_test, gbc_pred),4)\n",
        "\n",
        "print('Recall :\\t {}'.format(recall_gbc))\n",
        "print('Precision :\\t {}:'.format(precision_gbc))\n",
        "\n",
        "print(\"Accuracy:\", accuracy_score(y_test, gbc_pred))"
      ],
      "execution_count": 232,
      "outputs": [
        {
          "output_type": "stream",
          "text": [
            "Recall :\t 0.0904\n",
            "Precision :\t 0.5152:\n",
            "Accuracy: 0.8529874213836478\n"
          ],
          "name": "stdout"
        }
      ]
    },
    {
      "cell_type": "code",
      "metadata": {
        "colab": {
          "base_uri": "https://localhost:8080/"
        },
        "id": "-VhBssk2u4l8",
        "outputId": "65df0014-1b8e-42eb-b020-6e2f1cc4ee50"
      },
      "source": [
        "# Feature Importance\n",
        "feature_importances = model_rf.feature_importances_\n",
        "features = X_train.columns\n",
        "df2 = pd.DataFrame({'features': features, 'importance': feature_importances}).nlargest\n",
        "print(df2)"
      ],
      "execution_count": 233,
      "outputs": [
        {
          "output_type": "stream",
          "text": [
            "<bound method DataFrame.nlargest of            features  importance\n",
            "0              male    0.019185\n",
            "1               age    0.121750\n",
            "2     currentSmoker    0.009759\n",
            "3        cigsPerDay    0.053895\n",
            "4            BPMeds    0.010533\n",
            "5   prevalentStroke    0.003813\n",
            "6      prevalentHyp    0.014061\n",
            "7          diabetes    0.002293\n",
            "8           totChol    0.129764\n",
            "9             sysBP    0.142196\n",
            "10            diaBP    0.120152\n",
            "11              BMI    0.145464\n",
            "12        heartRate    0.099240\n",
            "13          glucose    0.127895>\n"
          ],
          "name": "stdout"
        }
      ]
    },
    {
      "cell_type": "code",
      "metadata": {
        "colab": {
          "base_uri": "https://localhost:8080/"
        },
        "id": "4BGMzvBnBURJ",
        "outputId": "93e98672-dd77-41dc-b974-04b28f608ccd"
      },
      "source": [
        "rfClf = RandomForestClassifier(n_estimators=200, random_state=0,max_depth=4)\n",
        "svmClf = SVC(probability=True, random_state=0)\n",
        "logClf = LogisticRegression(random_state=0)\n",
        "\n",
        "clf2 = VotingClassifier(estimators = [('rf',rfClf), ('svm',svmClf), ('log', logClf)], voting='soft') \n",
        "clf2.fit(X_train, y_train)\n",
        "\n",
        "clf2_pred = clf2.predict(X_test)\n",
        "precision_voting = precision_score(y_test, clf2_pred)\n",
        "print('Accuracy score', accuracy_score(y_test, clf2_pred))"
      ],
      "execution_count": 234,
      "outputs": [
        {
          "output_type": "stream",
          "text": [
            "Accuracy score 0.8514150943396226\n"
          ],
          "name": "stdout"
        },
        {
          "output_type": "stream",
          "text": [
            "/usr/local/lib/python3.7/dist-packages/sklearn/linear_model/_logistic.py:940: ConvergenceWarning: lbfgs failed to converge (status=1):\n",
            "STOP: TOTAL NO. of ITERATIONS REACHED LIMIT.\n",
            "\n",
            "Increase the number of iterations (max_iter) or scale the data as shown in:\n",
            "    https://scikit-learn.org/stable/modules/preprocessing.html\n",
            "Please also refer to the documentation for alternative solver options:\n",
            "    https://scikit-learn.org/stable/modules/linear_model.html#logistic-regression\n",
            "  extra_warning_msg=_LOGISTIC_SOLVER_CONVERGENCE_MSG)\n"
          ],
          "name": "stderr"
        }
      ]
    },
    {
      "cell_type": "code",
      "metadata": {
        "colab": {
          "base_uri": "https://localhost:8080/",
          "height": 248
        },
        "id": "wX1DIgej9vgW",
        "outputId": "1a99bc29-b4c0-4d4f-dffd-4da653336e87"
      },
      "source": [
        "# Visualizing the Tree and Saving it\n",
        "from sklearn import tree\n",
        "\n",
        "plt.figure()\n",
        "heartTree = tree.plot_tree(dt)\n",
        "plt.savefig('heart.png')\n",
        "plt.show()\n"
      ],
      "execution_count": 235,
      "outputs": [
        {
          "output_type": "display_data",
          "data": {
            "image/png": "[encoded data removed]",
            "text/plain": [
              "<Figure size 432x288 with 1 Axes>"
            ]
          },
          "metadata": {
            "tags": [],
            "needs_background": "light"
          }
        }
      ]
    }
  ]
}